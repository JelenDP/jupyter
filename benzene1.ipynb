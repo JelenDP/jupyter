{
 "cells": [
  {
   "cell_type": "code",
   "execution_count": 106,
   "metadata": {
    "collapsed": false
   },
   "outputs": [],
   "source": [
    "import numpy as np"
   ]
  },
  {
   "cell_type": "code",
   "execution_count": 107,
   "metadata": {
    "collapsed": true
   },
   "outputs": [],
   "source": [
    "import matplotlib.pyplot as plt"
   ]
  },
  {
   "cell_type": "code",
   "execution_count": 108,
   "metadata": {
    "collapsed": true
   },
   "outputs": [],
   "source": [
    "%matplotlib inline"
   ]
  },
  {
   "cell_type": "code",
   "execution_count": 109,
   "metadata": {
    "collapsed": false
   },
   "outputs": [],
   "source": [
    "t = 1\n",
    "N = 10\n",
    "dt = t/N\n",
    "h_vonas = 1\n",
    "c = 1\n",
    "k_b = 1\n",
    "T = 1\n",
    "g = c*k_b*T\n",
    "p = 0\n",
    "kappa = 1\n",
    "a = 35"
   ]
  },
  {
   "cell_type": "code",
   "execution_count": 110,
   "metadata": {
    "collapsed": false
   },
   "outputs": [
    {
     "name": "stdout",
     "output_type": "stream",
     "text": [
      "1\n"
     ]
    }
   ],
   "source": [
    "print(g)"
   ]
  },
  {
   "cell_type": "code",
   "execution_count": 111,
   "metadata": {
    "collapsed": false
   },
   "outputs": [],
   "source": [
    "z = np.linspace(0,T,N)"
   ]
  },
  {
   "cell_type": "code",
   "execution_count": 112,
   "metadata": {
    "collapsed": false
   },
   "outputs": [],
   "source": [
    "#with open(\"benzene.yah.HAM\", \"r\", encoding='int64', errors=\"ignore\") as fid:\n",
    "#    fid.seek()\n",
    "#    H = fid.read()\n",
    "    #H.decode()\n",
    "#    fid.close()"
   ]
  },
  {
   "cell_type": "code",
   "execution_count": 113,
   "metadata": {
    "collapsed": false
   },
   "outputs": [],
   "source": [
    "H = np.zeros((8,8))\n",
    "for i in range(6):\n",
    "    H[i,i+1]=1\n",
    "for i in range(7):\n",
    "    H[i,i-1]=1\n",
    "H[1,6] = 1\n",
    "H[6,1] = 1\n",
    "H[4,7] = 1\n",
    "H[7,4] = 1   "
   ]
  },
  {
   "cell_type": "code",
   "execution_count": 114,
   "metadata": {
    "collapsed": false
   },
   "outputs": [],
   "source": [
    "ro = np.zeros((8,8))\n",
    "ro[0,0]=1\n",
    "#print(ro)"
   ]
  },
  {
   "cell_type": "code",
   "execution_count": 115,
   "metadata": {
    "collapsed": false
   },
   "outputs": [],
   "source": [
    "f_e = np.matrix(np.exp((-1j/h_vonas)*H*dt))\n",
    "f_h = np.matrix(np.exp((1j/h_vonas)*H*dt))\n",
    "ro = np.dot(f_e,ro,f_h)\n",
    "rod = ro"
   ]
  },
  {
   "cell_type": "code",
   "execution_count": 12,
   "metadata": {
    "collapsed": false
   },
   "outputs": [
    {
     "name": "stdout",
     "output_type": "stream",
     "text": [
      "[  3.80600363e+29   3.80600363e+29   3.80600363e+29   3.80600363e+29\n",
      "   3.80600363e+29   3.80600363e+29   3.80600363e+29   3.80600363e+29\n",
      "   3.80600363e+29   3.80600363e+29]\n"
     ]
    }
   ],
   "source": [
    "print(l)"
   ]
  },
  {
   "cell_type": "code",
   "execution_count": 13,
   "metadata": {
    "collapsed": false
   },
   "outputs": [
    {
     "data": {
      "text/plain": [
       "array([ -6.81842441e+14 +0.00000000e+00j,\n",
       "        -6.81266691e+14 -1.10743949e+13j,\n",
       "        -6.81281280e+14 -1.10726721e+13j,\n",
       "        -6.81186669e+14 -1.10670050e+13j,\n",
       "        -6.81314408e+14 -1.10689691e+13j,\n",
       "        -6.81186669e+14 -1.10670050e+13j,\n",
       "        -6.81281280e+14 -1.10726721e+13j,   6.16682542e+14 +1.74070378e+13j])"
      ]
     },
     "execution_count": 13,
     "metadata": {},
     "output_type": "execute_result"
    }
   ],
   "source": [
    "(np.diag(ro))"
   ]
  },
  {
   "cell_type": "code",
   "execution_count": 14,
   "metadata": {
    "collapsed": false
   },
   "outputs": [
    {
     "data": {
      "text/plain": [
       "[<matplotlib.lines.Line2D at 0x1d9d1ee30b8>]"
      ]
     },
     "execution_count": 14,
     "metadata": {},
     "output_type": "execute_result"
    },
    {
     "data": {
      "image/png": "[encoded data removed]",
      "text/plain": [
       "<matplotlib.figure.Figure at 0x1d9d16f8c50>"
      ]
     },
     "metadata": {},
     "output_type": "display_data"
    }
   ],
   "source": [
    "plt.plot(l,z)"
   ]
  },
  {
   "cell_type": "code",
   "execution_count": null,
   "metadata": {
    "collapsed": true
   },
   "outputs": [],
   "source": []
  },
  {
   "cell_type": "code",
   "execution_count": null,
   "metadata": {
    "collapsed": true
   },
   "outputs": [],
   "source": []
  }
 ],
 "metadata": {
  "anaconda-cloud": {},
  "kernelspec": {
   "display_name": "Python [conda root]",
   "language": "python",
   "name": "conda-root-py"
  },
  "language_info": {
   "codemirror_mode": {
    "name": "ipython",
    "version": 3
   },
   "file_extension": ".py",
   "mimetype": "text/x-python",
   "name": "python",
   "nbconvert_exporter": "python",
   "pygments_lexer": "ipython3",
   "version": "3.5.2"
  }
 },
 "nbformat": 4,
 "nbformat_minor": 1
}
