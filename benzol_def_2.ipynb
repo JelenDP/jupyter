{
 "cells": [
  {
   "cell_type": "code",
   "execution_count": 7,
   "metadata": {
    "collapsed": true
   },
   "outputs": [],
   "source": [
    "def benzol(filename):\n",
    "    import numpy as np\n",
    "    import matplotlib.pyplot as plt\n",
    "    %matplotlib inline\n",
    "    \n",
    "    #paraméterek\n",
    "    t = int(input(\"Mennyi idegi?\")) #idő\n",
    "    N = int(input(\"Mekkora felbontásban?\")) #felbontás\n",
    "    dt = t/N \n",
    "    h_vonas = 1\n",
    "    c = 1\n",
    "    k_b = 1\n",
    "    T = 1\n",
    "    g = c*k_b*T\n",
    "    p = 0\n",
    "    kappa = 1\n",
    "    z = np.linspace(0,t,N)\n",
    "    \n",
    "    H = np.zeros((8,8))\n",
    "    for i in range(6):\n",
    "        H[i,i+1]=1  \n",
    "    for i in range(1,7):\n",
    "        H[i,i-1]=1\n",
    "    H[1,6] = 1\n",
    "    H[6,1] = 1\n",
    "    H[4,7] = 1\n",
    "    H[7,4] = 1 \n",
    "\n",
    "    ro = np.zeros((8,8))\n",
    "    ro[1,1]=1\n",
    "\n",
    "    from scipy.linalg import expm, sinm, cosm\n",
    "    f_e = expm((-1j/h_vonas)*H*dt)\n",
    "    f_h = expm((1j/h_vonas)*H*dt)\n",
    "\n",
    "    l = []\n",
    "    for n in range(N):\n",
    "        ro = np.dot(f_e,ro)\n",
    "        ro = np.dot(ro,f_h)\n",
    "        rod = ro\n",
    "        ro = ro*(-np.exp(-(g/h_vonas)*dt))\n",
    "        for i in range(8):\n",
    "            ro[i,i] = rod[i,i]\n",
    "        x = ro[7,7]\n",
    "        l.append(x)\n",
    "   \n",
    "    l = np.real(l)\n",
    "    r = np.real(ro)\n",
    "    plt.matshow(r)\n",
    "    plt.title('ro')\n",
    "    \n",
    "    plt.show()\n",
    "    plt.plot(z,l)\n",
    "    plt.show()"
   ]
  },
  {
   "cell_type": "code",
   "execution_count": 9,
   "metadata": {
    "collapsed": false
   },
   "outputs": [
    {
     "name": "stdout",
     "output_type": "stream",
     "text": [
      "Mennyi idegi?100\n",
      "Mekkora felbontásban?1000\n"
     ]
    },
    {
     "data": {
      "image/png": "[encoded data removed]",
      "text/plain": [
       "<matplotlib.figure.Figure at 0x224e4f7e0b8>"
      ]
     },
     "metadata": {},
     "output_type": "display_data"
    },
    {
     "data": {
      "image/png": "[encoded data removed]",
      "text/plain": [
       "<matplotlib.figure.Figure at 0x224e60d8ac8>"
      ]
     },
     "metadata": {},
     "output_type": "display_data"
    }
   ],
   "source": [
    "benzol(\"sajt\")"
   ]
  },
  {
   "cell_type": "code",
   "execution_count": 11,
   "metadata": {
    "collapsed": false
   },
   "outputs": [
    {
     "ename": "NameError",
     "evalue": "name 'z' is not defined",
     "output_type": "error",
     "traceback": [
      "\u001b[0;31m---------------------------------------------------------------------------\u001b[0m",
      "\u001b[0;31mNameError\u001b[0m                                 Traceback (most recent call last)",
      "\u001b[0;32m<ipython-input-11-0a08d1e4f346>\u001b[0m in \u001b[0;36m<module>\u001b[0;34m()\u001b[0m\n\u001b[0;32m----> 1\u001b[0;31m \u001b[0mprint\u001b[0m\u001b[1;33m(\u001b[0m\u001b[0mz\u001b[0m\u001b[1;33m)\u001b[0m\u001b[1;33m\u001b[0m\u001b[0m\n\u001b[0m",
      "\u001b[0;31mNameError\u001b[0m: name 'z' is not defined"
     ]
    }
   ],
   "source": []
  },
  {
   "cell_type": "code",
   "execution_count": null,
   "metadata": {
    "collapsed": true
   },
   "outputs": [],
   "source": []
  }
 ],
 "metadata": {
  "anaconda-cloud": {},
  "kernelspec": {
   "display_name": "Python [conda root]",
   "language": "python",
   "name": "conda-root-py"
  },
  "language_info": {
   "codemirror_mode": {
    "name": "ipython",
    "version": 3
   },
   "file_extension": ".py",
   "mimetype": "text/x-python",
   "name": "python",
   "nbconvert_exporter": "python",
   "pygments_lexer": "ipython3",
   "version": "3.5.2"
  }
 },
 "nbformat": 4,
 "nbformat_minor": 1
}
