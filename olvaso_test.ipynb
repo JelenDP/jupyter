{
 "cells": [
  {
   "cell_type": "code",
   "execution_count": 1,
   "metadata": {
    "collapsed": true
   },
   "outputs": [],
   "source": [
    "def export_"
   ]
  },
  {
   "cell_type": "code",
   "execution_count": 8,
   "metadata": {
    "collapsed": true
   },
   "outputs": [],
   "source": [
    "def import_pickle(self, filename):\n",
    "    fh = None\n",
    "    try:\n",
    "        fh = open(filename, \"rb\")\n",
    "        magic = fh.read(len(GZIP_MAGIC))\n",
    "        if magic == GZIP_MAGIC:\n",
    "            fh.close()\n",
    "            fh = gzip.open(filename, \"rb\")\n",
    "        else:\n",
    "            fh.seek(0)\n",
    "        self.clear()\n",
    "        self.update(pickle.load(fh))\n",
    "        return True\n",
    "    except (EnvironmentError, pickle.UnpicklingError) as err:\n",
    "        print(\"{0}:import error: {1}\".format(\n",
    "            os.path.basename(sys,argv[0]),err))\n",
    "        return False\n",
    "    finally:\n",
    "        if fh is not None:\n",
    "            fh.close()"
   ]
  },
  {
   "cell_type": "code",
   "execution_count": 7,
   "metadata": {
    "collapsed": false
   },
   "outputs": [
    {
     "ename": "NameError",
     "evalue": "name 'benzene' is not defined",
     "output_type": "error",
     "traceback": [
      "\u001b[0;31m---------------------------------------------------------------------------\u001b[0m",
      "\u001b[0;31mNameError\u001b[0m                                 Traceback (most recent call last)",
      "\u001b[0;32m<ipython-input-7-850720f581a6>\u001b[0m in \u001b[0;36m<module>\u001b[0;34m()\u001b[0m\n\u001b[0;32m----> 1\u001b[0;31m \u001b[0mimport_pickle\u001b[0m\u001b[1;33m(\u001b[0m\u001b[1;36m5\u001b[0m\u001b[1;33m,\u001b[0m \u001b[0mbenzene\u001b[0m\u001b[1;33m.\u001b[0m\u001b[0myah\u001b[0m\u001b[1;33m.\u001b[0m\u001b[0mHAM\u001b[0m\u001b[1;33m)\u001b[0m\u001b[1;33m\u001b[0m\u001b[0m\n\u001b[0m",
      "\u001b[0;31mNameError\u001b[0m: name 'benzene' is not defined"
     ]
    }
   ],
   "source": [
    "import_pickle(5, benzene.yah.HAM)"
   ]
  },
  {
   "cell_type": "code",
   "execution_count": null,
   "metadata": {
    "collapsed": true
   },
   "outputs": [],
   "source": []
  }
 ],
 "metadata": {
  "anaconda-cloud": {},
  "kernelspec": {
   "display_name": "Python [conda root]",
   "language": "python",
   "name": "conda-root-py"
  },
  "language_info": {
   "codemirror_mode": {
    "name": "ipython",
    "version": 3
   },
   "file_extension": ".py",
   "mimetype": "text/x-python",
   "name": "python",
   "nbconvert_exporter": "python",
   "pygments_lexer": "ipython3",
   "version": "3.5.2"
  }
 },
 "nbformat": 4,
 "nbformat_minor": 1
}
